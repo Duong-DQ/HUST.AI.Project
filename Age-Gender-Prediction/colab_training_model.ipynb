{
  "cells": [
    {
      "cell_type": "code",
      "execution_count": 29,
      "metadata": {
        "colab": {
          "base_uri": "https://localhost:8080/"
        },
        "id": "HAb5eCodvfc0",
        "outputId": "910a842b-b533-429a-a287-b689247bcb54"
      },
      "outputs": [],
      "source": [
        "# from google.colab import drive\n",
        "# drive.mount('/content/drive')"
      ]
    },
    {
      "cell_type": "code",
      "execution_count": 30,
      "metadata": {
        "colab": {
          "base_uri": "https://localhost:8080/"
        },
        "id": "pHFwWtP4ud87",
        "outputId": "71677b11-d411-4c08-8802-350ca91867c8"
      },
      "outputs": [],
      "source": [
        "# %cd \"/content/drive/MyDrive/Hust/Age-Gender-Prediction\""
      ]
    },
    {
      "cell_type": "code",
      "execution_count": 31,
      "metadata": {
        "colab": {
          "base_uri": "https://localhost:8080/"
        },
        "id": "ekp0ucSyaAGw",
        "outputId": "b85c9981-948a-43da-e528-242fc809646e"
      },
      "outputs": [],
      "source": [
        "# !unzip \"./archive.zip\" -d '/content/'"
      ]
    },
    {
      "cell_type": "markdown",
      "metadata": {
        "id": "qBBJYj4pwHV3"
      },
      "source": [
        "## Imports"
      ]
    },
    {
      "cell_type": "code",
      "execution_count": 32,
      "metadata": {
        "id": "D-sThZRWBPnK"
      },
      "outputs": [],
      "source": [
        "import warnings\n",
        "\n",
        "warnings.simplefilter(action='ignore', category=FutureWarning)\n",
        "\n",
        "import pandas as pd\n",
        "import numpy as np\n",
        "import os\n",
        "# import cv2\n",
        "from PIL import Image, ImageOps\n",
        "from sklearn.model_selection import train_test_split\n",
        "\n",
        "from keras.models import Sequential\n",
        "from keras.layers import Conv2D, MaxPooling2D, Activation, Dropout, Flatten, Dense\n",
        "from keras import optimizers\n",
        "from keras.preprocessing.image import ImageDataGenerator\n",
        "from tensorflow.keras.utils import plot_model\n",
        "import tensorflow as tf"
      ]
    },
    {
      "cell_type": "markdown",
      "metadata": {
        "id": "lnaUZ9uXVgfW"
      },
      "source": [
        "## Data Loading"
      ]
    },
    {
      "cell_type": "code",
      "execution_count": 33,
      "metadata": {
        "id": "dKgAGCZgwLXX"
      },
      "outputs": [],
      "source": [
        "# colab\n",
        "# path = '/content/utkface_aligned_cropped/crop_part1/'\n",
        "# local\n",
        "path = './data/utkface_aligned_cropped/crop_part1/'\n",
        "\n",
        "images = []\n",
        "ages = []\n",
        "genders = []\n",
        "\n",
        "for i in os.listdir(path)[0:8000]:\n",
        "    split = i.split('_')\n",
        "    ages.append(int(split[0]))\n",
        "    genders.append(int(split[1]))\n",
        "    # image = cv2.imread(path+i,0)\n",
        "    # image = cv2.resize(image,dsize=(200,200,3))\n",
        "    # image = image.reshape((image.shape[0],image.shape[1],3))\n",
        "    # images.append(image)\n",
        "    images.append(Image.open(path + i))"
      ]
    },
    {
      "cell_type": "code",
      "execution_count": 34,
      "metadata": {
        "colab": {
          "base_uri": "https://localhost:8080/",
          "height": 423
        },
        "id": "Q7FzTQDrwd6_",
        "outputId": "a0bf8a25-36c3-4247-8100-5a577fb21f2f"
      },
      "outputs": [
        {
          "data": {
            "text/html": [
              "<div>\n",
              "<style scoped>\n",
              "    .dataframe tbody tr th:only-of-type {\n",
              "        vertical-align: middle;\n",
              "    }\n",
              "\n",
              "    .dataframe tbody tr th {\n",
              "        vertical-align: top;\n",
              "    }\n",
              "\n",
              "    .dataframe thead th {\n",
              "        text-align: right;\n",
              "    }\n",
              "</style>\n",
              "<table border=\"1\" class=\"dataframe\">\n",
              "  <thead>\n",
              "    <tr style=\"text-align: right;\">\n",
              "      <th></th>\n",
              "      <th>Images</th>\n",
              "      <th>Ages</th>\n",
              "      <th>Genders</th>\n",
              "    </tr>\n",
              "  </thead>\n",
              "  <tbody>\n",
              "    <tr>\n",
              "      <th>0</th>\n",
              "      <td>&lt;PIL.JpegImagePlugin.JpegImageFile image mode=...</td>\n",
              "      <td>100</td>\n",
              "      <td>1</td>\n",
              "    </tr>\n",
              "    <tr>\n",
              "      <th>1</th>\n",
              "      <td>&lt;PIL.JpegImagePlugin.JpegImageFile image mode=...</td>\n",
              "      <td>100</td>\n",
              "      <td>1</td>\n",
              "    </tr>\n",
              "    <tr>\n",
              "      <th>2</th>\n",
              "      <td>&lt;PIL.JpegImagePlugin.JpegImageFile image mode=...</td>\n",
              "      <td>101</td>\n",
              "      <td>1</td>\n",
              "    </tr>\n",
              "    <tr>\n",
              "      <th>3</th>\n",
              "      <td>&lt;PIL.JpegImagePlugin.JpegImageFile image mode=...</td>\n",
              "      <td>10</td>\n",
              "      <td>0</td>\n",
              "    </tr>\n",
              "    <tr>\n",
              "      <th>4</th>\n",
              "      <td>&lt;PIL.JpegImagePlugin.JpegImageFile image mode=...</td>\n",
              "      <td>10</td>\n",
              "      <td>0</td>\n",
              "    </tr>\n",
              "    <tr>\n",
              "      <th>...</th>\n",
              "      <td>...</td>\n",
              "      <td>...</td>\n",
              "      <td>...</td>\n",
              "    </tr>\n",
              "    <tr>\n",
              "      <th>7995</th>\n",
              "      <td>&lt;PIL.JpegImagePlugin.JpegImageFile image mode=...</td>\n",
              "      <td>63</td>\n",
              "      <td>1</td>\n",
              "    </tr>\n",
              "    <tr>\n",
              "      <th>7996</th>\n",
              "      <td>&lt;PIL.JpegImagePlugin.JpegImageFile image mode=...</td>\n",
              "      <td>63</td>\n",
              "      <td>1</td>\n",
              "    </tr>\n",
              "    <tr>\n",
              "      <th>7997</th>\n",
              "      <td>&lt;PIL.JpegImagePlugin.JpegImageFile image mode=...</td>\n",
              "      <td>63</td>\n",
              "      <td>1</td>\n",
              "    </tr>\n",
              "    <tr>\n",
              "      <th>7998</th>\n",
              "      <td>&lt;PIL.JpegImagePlugin.JpegImageFile image mode=...</td>\n",
              "      <td>63</td>\n",
              "      <td>1</td>\n",
              "    </tr>\n",
              "    <tr>\n",
              "      <th>7999</th>\n",
              "      <td>&lt;PIL.JpegImagePlugin.JpegImageFile image mode=...</td>\n",
              "      <td>63</td>\n",
              "      <td>1</td>\n",
              "    </tr>\n",
              "  </tbody>\n",
              "</table>\n",
              "<p>8000 rows × 3 columns</p>\n",
              "</div>"
            ],
            "text/plain": [
              "                                                 Images  Ages  Genders\n",
              "0     <PIL.JpegImagePlugin.JpegImageFile image mode=...   100        1\n",
              "1     <PIL.JpegImagePlugin.JpegImageFile image mode=...   100        1\n",
              "2     <PIL.JpegImagePlugin.JpegImageFile image mode=...   101        1\n",
              "3     <PIL.JpegImagePlugin.JpegImageFile image mode=...    10        0\n",
              "4     <PIL.JpegImagePlugin.JpegImageFile image mode=...    10        0\n",
              "...                                                 ...   ...      ...\n",
              "7995  <PIL.JpegImagePlugin.JpegImageFile image mode=...    63        1\n",
              "7996  <PIL.JpegImagePlugin.JpegImageFile image mode=...    63        1\n",
              "7997  <PIL.JpegImagePlugin.JpegImageFile image mode=...    63        1\n",
              "7998  <PIL.JpegImagePlugin.JpegImageFile image mode=...    63        1\n",
              "7999  <PIL.JpegImagePlugin.JpegImageFile image mode=...    63        1\n",
              "\n",
              "[8000 rows x 3 columns]"
            ]
          },
          "execution_count": 34,
          "metadata": {},
          "output_type": "execute_result"
        }
      ],
      "source": [
        "images = pd.Series(list(images), name = 'Images')\n",
        "ages = pd.Series(list(ages), name = 'Ages')\n",
        "genders = pd.Series(list(genders), name = 'Genders')\n",
        "\n",
        "df = pd.concat([images, ages, genders], axis=1)\n",
        "df"
      ]
    },
    {
      "cell_type": "code",
      "execution_count": 35,
      "metadata": {
        "colab": {
          "base_uri": "https://localhost:8080/",
          "height": 234
        },
        "id": "V-O_bgkdxM_m",
        "outputId": "ddabb005-b802-444d-a41a-78e734ed7066"
      },
      "outputs": [
        {
          "data": {
            "image/png": "[encoded data removed]",
            "text/plain": [
              "<PIL.JpegImagePlugin.JpegImageFile image mode=RGB size=200x200>"
            ]
          },
          "metadata": {},
          "output_type": "display_data"
        },
        {
          "name": "stdout",
          "output_type": "stream",
          "text": [
            "10 Female\n"
          ]
        }
      ],
      "source": [
        "display(df['Images'][102])\n",
        "print(df['Ages'][102], 'Male' if df['Genders'][102] == 0 else 'Female')"
      ]
    },
    {
      "cell_type": "code",
      "execution_count": 36,
      "metadata": {
        "colab": {
          "base_uri": "https://localhost:8080/",
          "height": 339
        },
        "id": "Z2Qb9LO4xxrJ",
        "outputId": "da63c0cf-8d4b-44e2-a003-f87d21583245"
      },
      "outputs": [
        {
          "data": {
            "text/plain": [
              "<AxesSubplot:>"
            ]
          },
          "execution_count": 36,
          "metadata": {},
          "output_type": "execute_result"
        },
        {
          "data": {
            "image/png": "[encoded data removed]",
            "text/plain": [
              "<Figure size 1000x500 with 1 Axes>"
            ]
          },
          "metadata": {},
          "output_type": "display_data"
        }
      ],
      "source": [
        "# histogram of df\n",
        "df = df[df['Ages'] > 4]\n",
        "df = df[df['Ages'] < 80]\n",
        "df['Ages'].hist(bins=60, figsize=(10, 5), xrot=90)"
      ]
    },
    {
      "cell_type": "code",
      "execution_count": 37,
      "metadata": {
        "colab": {
          "base_uri": "https://localhost:8080/",
          "height": 282
        },
        "id": "Jv1Rghnox2ZU",
        "outputId": "b3eded78-10e3-4d0d-ac66-1ad95bafc083"
      },
      "outputs": [
        {
          "data": {
            "text/plain": [
              "<AxesSubplot:>"
            ]
          },
          "execution_count": 37,
          "metadata": {},
          "output_type": "execute_result"
        },
        {
          "data": {
            "image/png": "[encoded data removed]",
            "text/plain": [
              "<Figure size 640x480 with 1 Axes>"
            ]
          },
          "metadata": {},
          "output_type": "display_data"
        }
      ],
      "source": [
        "# histogram of df\n",
        "df = df[df['Genders'] != 3]\n",
        "df['Genders'].hist()"
      ]
    },
    {
      "cell_type": "code",
      "execution_count": 38,
      "metadata": {
        "colab": {
          "base_uri": "https://localhost:8080/"
        },
        "id": "wRlbJpuPbzlP",
        "outputId": "9bd046f0-36cc-49a8-c528-7851a1a84a0e"
      },
      "outputs": [
        {
          "name": "stderr",
          "output_type": "stream",
          "text": [
            "c:\\Users\\Admin\\miniconda3\\envs\\ai_prj\\lib\\site-packages\\ipykernel_launcher.py:5: DeprecationWarning: ANTIALIAS is deprecated and will be removed in Pillow 10 (2023-07-01). Use Resampling.LANCZOS instead.\n",
            "  \"\"\"\n",
            "c:\\Users\\Admin\\miniconda3\\envs\\ai_prj\\lib\\site-packages\\pandas\\core\\indexing.py:1732: SettingWithCopyWarning: \n",
            "A value is trying to be set on a copy of a slice from a DataFrame\n",
            "\n",
            "See the caveats in the documentation: https://pandas.pydata.org/pandas-docs/stable/user_guide/indexing.html#returning-a-view-versus-a-copy\n",
            "  self._setitem_single_block(indexer, value, name)\n"
          ]
        }
      ],
      "source": [
        "x = []\n",
        "y = []\n",
        "\n",
        "for i in range(len(df)):\n",
        "    df['Images'].iloc[i] = df['Images'].iloc[i].resize((200,200), Image.ANTIALIAS)\n",
        "    ar = np.asarray(df['Images'].iloc[i])\n",
        "    x.append(ar)\n",
        "    agegen = [int(df['Ages'].iloc[i]), int(df['Genders'].iloc[i])]\n",
        "    y.append(agegen)\n",
        "\n",
        "x = np.array(x)\n"
      ]
    },
    {
      "cell_type": "code",
      "execution_count": 39,
      "metadata": {
        "id": "ELnqijhWcD3a"
      },
      "outputs": [],
      "source": [
        "# Train Test split\n",
        "y_age =  np.array(df['Ages'])\n",
        "y_gender = np.array(df['Genders'])\n",
        "\n",
        "x_train_age, x_test_age, y_train_age, y_test_age = train_test_split(x, y_age, test_size=0.2, stratify=y_age)\n",
        "x_train_gender, x_test_gender, y_train_gender, y_test_gender = train_test_split(x, y_gender, test_size=0.2, stratify=y_gender)"
      ]
    },
    {
      "cell_type": "markdown",
      "metadata": {
        "id": "Ld7rkJhXl2FX"
      },
      "source": [
        "## Training Model"
      ]
    },
    {
      "cell_type": "code",
      "execution_count": 40,
      "metadata": {
        "colab": {
          "base_uri": "https://localhost:8080/",
          "height": 1000
        },
        "id": "IaIl4th66D6W",
        "outputId": "d9404931-1b23-4269-eba3-a6b3ee99dae7"
      },
      "outputs": [
        {
          "name": "stdout",
          "output_type": "stream",
          "text": [
            "Model: \"sequential_2\"\n",
            "_________________________________________________________________\n",
            " Layer (type)                Output Shape              Param #   \n",
            "=================================================================\n",
            " conv2d_6 (Conv2D)           (None, 198, 198, 32)      896       \n",
            "                                                                 \n",
            " max_pooling2d_6 (MaxPooling  (None, 99, 99, 32)       0         \n",
            " 2D)                                                             \n",
            "                                                                 \n",
            " conv2d_7 (Conv2D)           (None, 97, 97, 64)        18496     \n",
            "                                                                 \n",
            " max_pooling2d_7 (MaxPooling  (None, 48, 48, 64)       0         \n",
            " 2D)                                                             \n",
            "                                                                 \n",
            " conv2d_8 (Conv2D)           (None, 46, 46, 128)       73856     \n",
            "                                                                 \n",
            " max_pooling2d_8 (MaxPooling  (None, 23, 23, 128)      0         \n",
            " 2D)                                                             \n",
            "                                                                 \n",
            " flatten_2 (Flatten)         (None, 67712)             0         \n",
            "                                                                 \n",
            " dense_2 (Dense)             (None, 64)                4333632   \n",
            "                                                                 \n",
            " dropout_2 (Dropout)         (None, 64)                0         \n",
            "                                                                 \n",
            " age_out (Dense)             (None, 1)                 65        \n",
            "                                                                 \n",
            "=================================================================\n",
            "Total params: 4,426,945\n",
            "Trainable params: 4,426,945\n",
            "Non-trainable params: 0\n",
            "_________________________________________________________________\n",
            "You must install pydot (`pip install pydot`) and install graphviz (see instructions at https://graphviz.gitlab.io/download/) for plot_model to work.\n"
          ]
        },
        {
          "name": "stderr",
          "output_type": "stream",
          "text": [
            "c:\\Users\\Admin\\miniconda3\\envs\\ai_prj\\lib\\site-packages\\keras\\optimizers\\optimizer_v2\\adam.py:117: UserWarning: The `lr` argument is deprecated, use `learning_rate` instead.\n",
            "  super().__init__(name, **kwargs)\n"
          ]
        }
      ],
      "source": [
        "agemodel = Sequential()\n",
        "agemodel.add(Conv2D(32, (3,3), activation='relu', input_shape=(200, 200, 3)))\n",
        "agemodel.add(MaxPooling2D((2,2)))\n",
        "agemodel.add(Conv2D(64, (3,3), activation='relu'))\n",
        "agemodel.add(MaxPooling2D((2,2)))\n",
        "agemodel.add(Conv2D(128, (3,3), activation='relu'))\n",
        "agemodel.add(MaxPooling2D((2,2)))\n",
        "agemodel.add(Flatten())\n",
        "agemodel.add(Dense(64, activation='relu'))\n",
        "agemodel.add(Dropout(0.5))\n",
        "agemodel.add(Dense(1, activation='relu', name='age_out'))\n",
        "\n",
        "agemodel.compile(loss='mean_squared_error', optimizer=optimizers.Adam(lr=0.0001))\n",
        "agemodel.summary()\n",
        "plot_model(agemodel)"
      ]
    },
    {
      "cell_type": "code",
      "execution_count": 41,
      "metadata": {
        "colab": {
          "base_uri": "https://localhost:8080/",
          "height": 1000
        },
        "id": "NU_HquCDjaxo",
        "outputId": "f4240670-850e-4a70-f391-434851e001bd"
      },
      "outputs": [
        {
          "name": "stdout",
          "output_type": "stream",
          "text": [
            "Model: \"sequential_3\"\n",
            "_________________________________________________________________\n",
            " Layer (type)                Output Shape              Param #   \n",
            "=================================================================\n",
            " conv2d_9 (Conv2D)           (None, 198, 198, 32)      896       \n",
            "                                                                 \n",
            " max_pooling2d_9 (MaxPooling  (None, 99, 99, 32)       0         \n",
            " 2D)                                                             \n",
            "                                                                 \n",
            " conv2d_10 (Conv2D)          (None, 97, 97, 64)        18496     \n",
            "                                                                 \n",
            " max_pooling2d_10 (MaxPoolin  (None, 48, 48, 64)       0         \n",
            " g2D)                                                            \n",
            "                                                                 \n",
            " conv2d_11 (Conv2D)          (None, 46, 46, 128)       73856     \n",
            "                                                                 \n",
            " max_pooling2d_11 (MaxPoolin  (None, 23, 23, 128)      0         \n",
            " g2D)                                                            \n",
            "                                                                 \n",
            " flatten_3 (Flatten)         (None, 67712)             0         \n",
            "                                                                 \n",
            " dense_3 (Dense)             (None, 64)                4333632   \n",
            "                                                                 \n",
            " dropout_3 (Dropout)         (None, 64)                0         \n",
            "                                                                 \n",
            " gender_out (Dense)          (None, 1)                 65        \n",
            "                                                                 \n",
            "=================================================================\n",
            "Total params: 4,426,945\n",
            "Trainable params: 4,426,945\n",
            "Non-trainable params: 0\n",
            "_________________________________________________________________\n",
            "You must install pydot (`pip install pydot`) and install graphviz (see instructions at https://graphviz.gitlab.io/download/) for plot_model to work.\n"
          ]
        }
      ],
      "source": [
        "genmodel = Sequential()\n",
        "genmodel.add(Conv2D(32, (3,3), activation='relu', input_shape=(200, 200, 3)))\n",
        "genmodel.add(MaxPooling2D((2,2)))\n",
        "genmodel.add(Conv2D(64, (3,3), activation='relu'))\n",
        "genmodel.add(MaxPooling2D((2,2)))\n",
        "genmodel.add(Conv2D(128, (3,3), activation='relu'))\n",
        "genmodel.add(MaxPooling2D((2,2)))\n",
        "genmodel.add(Flatten())\n",
        "genmodel.add(Dense(64, activation='relu'))\n",
        "genmodel.add(Dropout(0.5))\n",
        "genmodel.add(Dense(1, activation='sigmoid', name='gender_out'))\n",
        "\n",
        "genmodel.compile(loss='binary_crossentropy', optimizer=optimizers.Adam(lr=0.0001), metrics=['accuracy'])\n",
        "genmodel.summary()\n",
        "plot_model(genmodel)"
      ]
    },
    {
      "cell_type": "code",
      "execution_count": 42,
      "metadata": {
        "id": "3tzMzSrSkdRa"
      },
      "outputs": [],
      "source": [
        "# Data Generate\n",
        "datagen = ImageDataGenerator(\n",
        "      rescale=1./255., width_shift_range = 0.1, height_shift_range = 0.1, horizontal_flip = True)\n",
        "\n",
        "test_datagen = ImageDataGenerator(rescale=1./255)"
      ]
    },
    {
      "cell_type": "code",
      "execution_count": 43,
      "metadata": {
        "colab": {
          "base_uri": "https://localhost:8080/"
        },
        "id": "7ZFJzl1XCtYS",
        "outputId": "cfd1b4ce-cca9-42fd-92cd-892595f6f01f"
      },
      "outputs": [
        {
          "name": "stdout",
          "output_type": "stream",
          "text": [
            "Epoch 1/50\n",
            " 98/147 [===================>..........] - ETA: 1:16 - loss: 417.8665"
          ]
        }
      ],
      "source": [
        "train1 = datagen.flow(x_train_age, y_train_age, batch_size=32)\n",
        "\n",
        "test1 = test_datagen.flow(\n",
        "        x_test_age, y_test_age,\n",
        "        batch_size=32)\n",
        "\n",
        "history1 = agemodel.fit(train1, epochs=50, shuffle=True, validation_data=test1)"
      ]
    },
    {
      "cell_type": "code",
      "execution_count": null,
      "metadata": {},
      "outputs": [],
      "source": [
        "agemodel.save(\"checkpoints/agemodel.h5\")"
      ]
    },
    {
      "cell_type": "code",
      "execution_count": null,
      "metadata": {
        "id": "iS7UOM_MzxWn"
      },
      "outputs": [],
      "source": [
        "train2 = datagen.flow(x_train_gender, y_train_gender, batch_size=64)\n",
        "\n",
        "test2 = test_datagen.flow(\n",
        "        x_test_gender, y_test_gender,\n",
        "        batch_size=64)\n",
        "\n",
        "history2 = genmodel.fit(train2, epochs=30, shuffle=True, validation_data=test2)"
      ]
    },
    {
      "cell_type": "code",
      "execution_count": null,
      "metadata": {
        "id": "0z5O1zvhmBId"
      },
      "outputs": [],
      "source": [
        "genmodel.save(\"checkpoints/genmodel.h5\")"
      ]
    },
    {
      "cell_type": "code",
      "execution_count": null,
      "metadata": {
        "id": "MDlMZYdGl5pv"
      },
      "outputs": [],
      "source": [
        "def process_and_predict(file):\n",
        "    im = Image.open(file)\n",
        "    width, height = im.size\n",
        "    if width == height:\n",
        "        im = im.resize((200,200), Image.ANTIALIAS)\n",
        "    else:\n",
        "        if width > height:\n",
        "            left = width/2 - height/2\n",
        "            right = width/2 + height/2\n",
        "            top = 0\n",
        "            bottom = height\n",
        "            im = im.crop((left,top,right,bottom))\n",
        "            im = im.resize((200,200), Image.ANTIALIAS)\n",
        "        else:\n",
        "            left = 0\n",
        "            right = width\n",
        "            top = 0\n",
        "            bottom = width\n",
        "            im = im.crop((left,top,right,bottom))\n",
        "            im = im.resize((200,200), Image.ANTIALIAS)\n",
        "            \n",
        "    ar = np.asarray(im)\n",
        "    ar = ar.astype('float32')\n",
        "    ar /= 255.0\n",
        "    ar = ar.reshape(-1, 200, 200, 3)\n",
        "    \n",
        "    age = agemodel.predict(ar)\n",
        "    gender = np.round(genmodel.predict(ar))\n",
        "    if gender == 0:\n",
        "        gender = 'male'\n",
        "    elif gender == 1:\n",
        "        gender = 'female'\n",
        "        \n",
        "    print('Age:', int(age), '\\n Gender:', gender)\n",
        "    return im.resize((300,300), Image.ANTIALIAS)"
      ]
    },
    {
      "cell_type": "markdown",
      "metadata": {
        "id": "GcV3Q8Q7rCrz"
      },
      "source": [
        "-------------------------------------------------------------------------------✈"
      ]
    },
    {
      "cell_type": "code",
      "execution_count": null,
      "metadata": {
        "id": "_lBEpRx49AhI"
      },
      "outputs": [],
      "source": [
        "# from google.colab import drive\n",
        "# drive.mount('/content/drive')\n",
        "\n",
        "%cd \"/content/drive/MyDrive/Hust/Age-Gender-Prediction\"\n"
      ]
    },
    {
      "cell_type": "code",
      "execution_count": null,
      "metadata": {
        "id": "pNsRDhGR9SBq"
      },
      "outputs": [],
      "source": [
        "import os\n",
        "\n",
        "import tensorflow as tf\n",
        "from tensorflow import keras\n",
        "\n",
        "from PIL import Image, ImageOps\n",
        "from tensorflow.keras.preprocessing.image import load_img\n",
        "import numpy as np\n",
        "import matplotlib.pyplot as plt\n",
        "\n",
        "model = tf.keras.models.load_model(\"checkpoints/model.h5\")\n",
        "%cd \"./testimg\""
      ]
    },
    {
      "cell_type": "code",
      "execution_count": null,
      "metadata": {
        "id": "sF4c479q_aNs"
      },
      "outputs": [],
      "source": [
        "%ls"
      ]
    },
    {
      "cell_type": "code",
      "execution_count": null,
      "metadata": {
        "id": "_sr_Jz6G_CxS"
      },
      "outputs": [],
      "source": [
        "def testimg(path):\n",
        "    image = cv2.imread(path, 0)\n",
        "    image = cv2.resize(image,dsize=(64,64))\n",
        "    image = image.reshape((image.shape[0],image.shape[1],1))\n",
        "    display(image)\n",
        "    res = get_result(image)\n",
        "    return"
      ]
    },
    {
      "cell_type": "code",
      "execution_count": null,
      "metadata": {
        "id": "NnIaPGn-domR"
      },
      "outputs": [],
      "source": [
        "testimg(\"phuong0.png\")\n",
        "testimg(\"phuong1.png\")\n",
        "testimg(\"mixi.png\")\n",
        "testimg(\"thuytien.png\")\n",
        "testimg(\"nguoiyeucu.png\")\n",
        "testimg(\"evans.png\")\n",
        "testimg(\"littlegirl.png\")\n"
      ]
    }
  ],
  "metadata": {
    "accelerator": "GPU",
    "colab": {
      "provenance": []
    },
    "gpuClass": "premium",
    "kernelspec": {
      "display_name": "ai_prj",
      "language": "python",
      "name": "python3"
    },
    "language_info": {
      "codemirror_mode": {
        "name": "ipython",
        "version": 3
      },
      "file_extension": ".py",
      "mimetype": "text/x-python",
      "name": "python",
      "nbconvert_exporter": "python",
      "pygments_lexer": "ipython3",
      "version": "3.7.15"
    },
    "vscode": {
      "interpreter": {
        "hash": "73a1c09914320ae67c9586677417b3f1dc9c93bd009d1bd2c2ce5374655c8143"
      }
    }
  },
  "nbformat": 4,
  "nbformat_minor": 0
}
